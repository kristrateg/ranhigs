{
 "cells": [
  {
   "cell_type": "markdown",
   "id": "4caab86c",
   "metadata": {},
   "source": [
    "**Определить, является ли число простым. Попросить пользователя ввести произвольное целочисленное число. Вывести «Число простое», если число является простым и «Число не просто» в остальных случаях. Если пользователь вводит не число, то сообщить ему об этом и попросить ввести число еще раз.\n",
    "Ограничение на вводимое число: 0 < x < 100 000 000**"
   ]
  },
  {
   "cell_type": "code",
   "execution_count": 37,
   "id": "1e300b95",
   "metadata": {},
   "outputs": [
    {
     "name": "stdout",
     "output_type": "stream",
     "text": [
      "Введите произвольное целочисленное число: 5\n",
      "Число 5 простое\n"
     ]
    }
   ],
   "source": [
    "for num in range(100000000):\n",
    "    try:\n",
    "        num = int(input('Введите произвольное целочисленное число: '))\n",
    "        res = [i for i in range(1, num + 1) if num % i == 0]\n",
    "        if res[0] == 1 and res[1] == num:\n",
    "            print(f'Число {num} простое')\n",
    "        else:\n",
    "            print(f'Число {num} не простое')\n",
    "    except ValueError:\n",
    "        print(\"Это не число! Попробуйте ещё раз\")\n",
    "    break    "
   ]
  }
 ],
 "metadata": {
  "kernelspec": {
   "display_name": "Python 3 (ipykernel)",
   "language": "python",
   "name": "python3"
  },
  "language_info": {
   "codemirror_mode": {
    "name": "ipython",
    "version": 3
   },
   "file_extension": ".py",
   "mimetype": "text/x-python",
   "name": "python",
   "nbconvert_exporter": "python",
   "pygments_lexer": "ipython3",
   "version": "3.9.12"
  }
 },
 "nbformat": 4,
 "nbformat_minor": 5
}
