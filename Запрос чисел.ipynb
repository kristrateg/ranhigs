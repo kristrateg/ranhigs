{
 "cells": [
  {
   "cell_type": "markdown",
   "id": "9e58edee",
   "metadata": {},
   "source": [
    "**Напишите программу, которая многократно запрашивает у пользователя пару чисел до тех пор, пока хотя бы одно из этой пары не будет равно 0. С каждой парой программа должна использовать функцию для вычисления среднего гармонического этих чисел.**\n",
    "\n",
    "Среднее гармоническое чисел — это инверсия среднего значения их инверсий; она вычисляется следующим образом:\n",
    "\n",
    "**среднее_гармоническое = 2AB / (A+B)**"
   ]
  },
  {
   "cell_type": "code",
   "execution_count": 13,
   "id": "4b0b1d1d",
   "metadata": {},
   "outputs": [
    {
     "name": "stdout",
     "output_type": "stream",
     "text": [
      "Введите первое число: 2\n",
      "Введите второе число: 3\n",
      "2.4\n",
      "Введите первое число: 5\n",
      "Введите второе число: 9\n",
      "6.428571428571429\n",
      "Введите первое число: 5\n",
      "Введите второе число: 0\n",
      "0.0\n",
      "Это ноль. Введите другое число\n"
     ]
    }
   ],
   "source": [
    "while chislo1 != 0 and chislo2 != 0:\n",
    "    chislo1 = int (input ('Введите первое число: '))\n",
    "    chislo2 = int (input ('Введите второе число: '))\n",
    "    print ((2*chislo1*chislo2)/(chislo1+chislo2)) \n",
    "else:\n",
    "    print ('Это ноль. Введите другое число')\n",
    "    pass"
   ]
  }
 ],
 "metadata": {
  "kernelspec": {
   "display_name": "Python 3 (ipykernel)",
   "language": "python",
   "name": "python3"
  },
  "language_info": {
   "codemirror_mode": {
    "name": "ipython",
    "version": 3
   },
   "file_extension": ".py",
   "mimetype": "text/x-python",
   "name": "python",
   "nbconvert_exporter": "python",
   "pygments_lexer": "ipython3",
   "version": "3.9.12"
  }
 },
 "nbformat": 4,
 "nbformat_minor": 5
}
