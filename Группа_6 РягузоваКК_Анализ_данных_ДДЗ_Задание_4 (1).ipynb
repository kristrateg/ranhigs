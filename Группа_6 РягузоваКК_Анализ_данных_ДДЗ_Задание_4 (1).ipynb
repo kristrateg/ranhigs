{
 "cells": [
  {
   "cell_type": "markdown",
   "metadata": {
    "id": "-7KW99s2uAQe"
   },
   "source": [
    "**Внимание! Необходимо использовать функции numpy по-максимуму! И практически никаких циклов!**"
   ]
  },
  {
   "cell_type": "code",
   "execution_count": 7,
   "metadata": {
    "id": "Pi1QwrHEuAQg"
   },
   "outputs": [],
   "source": [
    "import numpy as np"
   ]
  },
  {
   "cell_type": "markdown",
   "metadata": {
    "id": "jczamdbSuAQh"
   },
   "source": [
    "### 1. Отсортируйте содержимое матрицы, чтобы в каждом столбце все значения распологались по возрастанию:"
   ]
  },
  {
   "cell_type": "code",
   "execution_count": 4,
   "metadata": {
    "id": "4wBXhr1luAQh",
    "outputId": "6f0f5b28-fb35-46aa-831e-7e69a0aae572"
   },
   "outputs": [
    {
     "name": "stdout",
     "output_type": "stream",
     "text": [
      "[[9 8 4]\n",
      " [0 0 8]\n",
      " [3 2 1]\n",
      " [8 9 6]\n",
      " [0 4 6]]\n"
     ]
    }
   ],
   "source": [
    "np.random.seed(21)\n",
    "a = np.random.randint(0, 10, (5, 3))\n",
    "print(a)"
   ]
  },
  {
   "cell_type": "code",
   "execution_count": 19,
   "metadata": {
    "id": "O8tqB7UiuAQi"
   },
   "outputs": [
    {
     "name": "stdout",
     "output_type": "stream",
     "text": [
      "[[0 0 1]\n",
      " [0 2 4]\n",
      " [3 4 6]\n",
      " [8 8 6]\n",
      " [9 9 8]]\n"
     ]
    }
   ],
   "source": [
    "# Дописать код здесь\n",
    "a_sort = a = a[a[:,0].argsort()]\n",
    "print(a_sort)"
   ]
  },
  {
   "cell_type": "markdown",
   "metadata": {
    "id": "IKGI2uCguAQi"
   },
   "source": [
    "### 2. Найти наиболее частое значение в массиве\n",
    "[0 4 2 3 2 0 0 4 5 2 8 4 7 0 4 2 0 3 4 6 0 2 1 8 9 5 9 2 7 7 1 5 6 1 9 1 9\n",
    " 0 7 0 8 5 6 9 6 9 2 1 8 7]"
   ]
  },
  {
   "cell_type": "code",
   "execution_count": 34,
   "metadata": {},
   "outputs": [],
   "source": [
    "a1 = np.array([0, 4, 2, 3, 2, 0, 0, 4, 5, 2, 8, 4, 7, 0, 4, 2, 0, 3, 4, 6, 0, 2, 1, 8, 9, 5, 9, 2, 7, 7, 1, 5, 6, 1, 9, 1, 9, 0, 7, 0, 8, 5, 6, 9, 6, 9, 2, 1, 8, 7])"
   ]
  },
  {
   "cell_type": "code",
   "execution_count": 38,
   "metadata": {
    "id": "cXLO6spZuAQi",
    "outputId": "d6ef9600-999b-410e-9f69-b8e2d78391bd"
   },
   "outputs": [
    {
     "data": {
      "text/plain": [
       "0"
      ]
     },
     "execution_count": 38,
     "metadata": {},
     "output_type": "execute_result"
    }
   ],
   "source": [
    "# Дописать код здесь\n",
    "a_popular = np.argmax(np.bincount(a1))\n",
    "list(a1).index(a_popular)"
   ]
  },
  {
   "cell_type": "markdown",
   "metadata": {
    "id": "d07woJW0uAQj"
   },
   "source": [
    "### 3. Найти n наибольших значений в массиве"
   ]
  },
  {
   "cell_type": "code",
   "execution_count": 41,
   "metadata": {
    "id": "JVQIENfvuAQj",
    "outputId": "f2402647-3839-478c-96cf-db6a4d0f3871"
   },
   "outputs": [
    {
     "data": {
      "text/plain": [
       "array([4355, 5843, 1729, ..., 2241,  937, 1651])"
      ]
     },
     "execution_count": 41,
     "metadata": {},
     "output_type": "execute_result"
    }
   ],
   "source": [
    "Z = np.arange(10000)\n",
    "np.random.shuffle(Z)\n",
    "n = 5\n",
    "Z"
   ]
  },
  {
   "cell_type": "code",
   "execution_count": 47,
   "metadata": {
    "id": "YaZY3bbruAQk"
   },
   "outputs": [
    {
     "name": "stdout",
     "output_type": "stream",
     "text": [
      "[9999 9998 9997 9996 9995]\n"
     ]
    }
   ],
   "source": [
    "# Дописать код здесь\n",
    "Z_index = Z.argsort()[-5:][::-1]\n",
    "print (np.take(Z, Z_index))"
   ]
  },
  {
   "cell_type": "markdown",
   "metadata": {
    "id": "PqxjN_0AuAQk"
   },
   "source": [
    "### 4. Дан двумерный массив. Найти все различные строки"
   ]
  },
  {
   "cell_type": "code",
   "execution_count": 48,
   "metadata": {
    "id": "bcSdbUPSuAQk",
    "outputId": "424e5338-1259-46c1-aaa5-39a7252eb530"
   },
   "outputs": [
    {
     "name": "stdout",
     "output_type": "stream",
     "text": [
      "[[1 1 1]\n",
      " [0 0 1]\n",
      " [0 0 0]\n",
      " [1 0 1]\n",
      " [0 0 1]\n",
      " [1 0 1]]\n"
     ]
    }
   ],
   "source": [
    "Z = np.random.randint(0, 2, (6,3))\n",
    "print(Z)"
   ]
  },
  {
   "cell_type": "code",
   "execution_count": 49,
   "metadata": {
    "id": "8djEW8skuAQl",
    "outputId": "7a915e20-34a1-43e6-a1df-4757890697bc"
   },
   "outputs": [
    {
     "data": {
      "text/plain": [
       "array([[0, 0, 0],\n",
       "       [0, 0, 1],\n",
       "       [1, 0, 1],\n",
       "       [1, 1, 1]])"
      ]
     },
     "execution_count": 49,
     "metadata": {},
     "output_type": "execute_result"
    }
   ],
   "source": [
    "# Дописать код здесь\n",
    "unique_Z_rows = np.unique(Z, axis=0)\n",
    "unique_Z_rows"
   ]
  },
  {
   "cell_type": "markdown",
   "metadata": {
    "id": "zd08nVscuAQm"
   },
   "source": [
    "### 5. Написать функцию, которая по данной последовательности $\\{A_i\\}_{i=1}^n$ строит последовательность $S_n$, где $S_k = \\frac{A_1 + ... + A_k}{k}$.  \n",
    "Аналогично -- с помощью библиотеки **NumPy** и без нее. Сравните скорость."
   ]
  },
  {
   "cell_type": "code",
   "execution_count": 113,
   "metadata": {},
   "outputs": [
    {
     "name": "stdout",
     "output_type": "stream",
     "text": [
      "[1.  1.5 2.  2.5 3. ]\n",
      "[1.  1.5 2.  2.5 3. ]\n",
      "[1.  1.5 2.  2.5 3. ]\n",
      "[1.  1.5 2.  2.5 3. ]\n",
      "[1.  1.5 2.  2.5 3. ]\n",
      "[1.  1.5 2.  2.5 3. ]\n",
      "[1.  1.5 2.  2.5 3. ]\n",
      "[1.  1.5 2.  2.5 3. ]\n",
      "[1.  1.5 2.  2.5 3. ]\n",
      "[1.  1.5 2.  2.5 3. ]\n",
      "[1.  1.5 2.  2.5 3. ]\n",
      "[1.  1.5 2.  2.5 3. ]\n",
      "[1.  1.5 2.  2.5 3. ]\n",
      "[1.  1.5 2.  2.5 3. ]\n",
      "[1.  1.5 2.  2.5 3. ]\n",
      "[1.  1.5 2.  2.5 3. ]\n",
      "[1.  1.5 2.  2.5 3. ]\n",
      "[1.  1.5 2.  2.5 3. ]\n",
      "[1.  1.5 2.  2.5 3. ]\n",
      "[1.  1.5 2.  2.5 3. ]\n",
      "[1.  1.5 2.  2.5 3. ]\n",
      "[1.  1.5 2.  2.5 3. ]\n",
      "[1.  1.5 2.  2.5 3. ]\n",
      "[1.  1.5 2.  2.5 3. ]\n",
      "[1.  1.5 2.  2.5 3. ]\n",
      "[1.  1.5 2.  2.5 3. ]\n",
      "[1.  1.5 2.  2.5 3. ]\n",
      "[1.  1.5 2.  2.5 3. ]\n",
      "[1.  1.5 2.  2.5 3. ]\n",
      "[1.  1.5 2.  2.5 3. ]\n",
      "[1.  1.5 2.  2.5 3. ]\n",
      "[1.  1.5 2.  2.5 3. ]\n",
      "[1.  1.5 2.  2.5 3. ]\n",
      "[1.  1.5 2.  2.5 3. ]\n",
      "[1.  1.5 2.  2.5 3. ]\n",
      "324 µs ± 67.2 µs per loop (mean ± std. dev. of 7 runs, 5 loops each)\n"
     ]
    }
   ],
   "source": [
    "%%timeit -n 5    \n",
    "A = np.array([1, 2, 3, 4, 5])\n",
    "summa = [0] * len(A)\n",
    "summa[0] = A[0]\n",
    "for i in range(1, len(A)):\n",
    "    summa[i] = summa[i - 1] + A[i]\n",
    "    S = summa / np.arange(1, len(A) + 1)\n",
    "print(S)"
   ]
  },
  {
   "cell_type": "code",
   "execution_count": null,
   "metadata": {},
   "outputs": [],
   "source": [
    "%%timeit -n 5    #без библиотеки Numpy\n",
    "\n"
   ]
  },
  {
   "cell_type": "code",
   "execution_count": null,
   "metadata": {},
   "outputs": [],
   "source": []
  },
  {
   "cell_type": "code",
   "execution_count": null,
   "metadata": {},
   "outputs": [],
   "source": []
  },
  {
   "cell_type": "code",
   "execution_count": 140,
   "metadata": {},
   "outputs": [
    {
     "name": "stdout",
     "output_type": "stream",
     "text": [
      "[0.06666667 0.2        0.4        0.66666667 1.        ]\n"
     ]
    }
   ],
   "source": [
    "A = np.array([1, 2, 3, 4, 5])\n",
    "summa = [0] * len(A)\n",
    "summa[0] = A[0]\n",
    "for i in range(1, len(A)):\n",
    "    summa[i] = summa[i - 1] + A[i]\n",
    "    for j in range(1, len(A)+1):\n",
    "        S = summa / (A[1:].sum()+1)\n",
    "print(S)"
   ]
  },
  {
   "cell_type": "code",
   "execution_count": null,
   "metadata": {},
   "outputs": [],
   "source": []
  },
  {
   "cell_type": "code",
   "execution_count": null,
   "metadata": {},
   "outputs": [],
   "source": []
  },
  {
   "cell_type": "code",
   "execution_count": null,
   "metadata": {},
   "outputs": [],
   "source": []
  },
  {
   "cell_type": "markdown",
   "metadata": {
    "id": "sfYlSNDmuAQn"
   },
   "source": [
    "### 6. Пусть задан некоторый массив  𝑋 . Заменить все элементы с нечетными индексами на число  𝑎  (если оно не указано, то на 1), четные - возвести в куб и записать в обратном порядке на те же позиции. Массив  𝑋  при этом должен остаться без изменений. В конце требуется слить массив X с преобразованным X.\n",
    "\n",
    "Пример:\n",
    "X = [100, 200, 300, 400, 500] -> [100, a, 300, a, 500] -> [500^3, a, 300^3, a, 100^3] -> склеиваем -> [100, 200, 300, 400, 500, 500^3, a, 300^3, a, 100^3]"
   ]
  },
  {
   "cell_type": "code",
   "execution_count": 31,
   "metadata": {},
   "outputs": [
    {
     "name": "stdout",
     "output_type": "stream",
     "text": [
      "[100 200 300 400 500]\n"
     ]
    }
   ],
   "source": [
    "X = np.array([100, 200, 300, 400, 500])\n",
    "Xnew = X.copy(order='C')\n",
    "a = 1\n",
    "print(X)"
   ]
  },
  {
   "cell_type": "code",
   "execution_count": 32,
   "metadata": {},
   "outputs": [
    {
     "data": {
      "text/plain": [
       "array([125000000,         1,  27000000,         1,   1000000])"
      ]
     },
     "execution_count": 32,
     "metadata": {},
     "output_type": "execute_result"
    }
   ],
   "source": [
    "Xnew[1::2] = a\n",
    "Xnew[::2] = np.power(Xnew[::2], 3)[::-1]\n",
    "Xnew"
   ]
  },
  {
   "cell_type": "code",
   "execution_count": 33,
   "metadata": {},
   "outputs": [
    {
     "name": "stdout",
     "output_type": "stream",
     "text": [
      "[      100       200       300       400       500 125000000         1\n",
      "  27000000         1   1000000]\n"
     ]
    }
   ],
   "source": [
    "X = np.concatenate((X, Xnew), axis=0)\n",
    "print(X)"
   ]
  },
  {
   "cell_type": "markdown",
   "metadata": {
    "id": "o1_EME5LuAQn"
   },
   "source": [
    "### 7. Вам подаются на вход два вектора `a` и `b` в трехмерном пространстве. Заполните их случайными числами. Реализуйте их скалярное произведение с помощью  `NumPy` и без. Засеките время работы, как это показано в заданиях выше."
   ]
  },
  {
   "cell_type": "code",
   "execution_count": 61,
   "metadata": {},
   "outputs": [
    {
     "name": "stdout",
     "output_type": "stream",
     "text": [
      "[[[6 8 6 3 5 2 4 5 8 9]]]   [[[4 4 9 8 3 0 8 7 5 8]]]\n"
     ]
    }
   ],
   "source": [
    "import timeit\n",
    "\n",
    "a = np.array([[np.random.randint(0,10,10)]]) \n",
    "b = np.array([[np.random.randint(0,10,10)]]) \n",
    "print(a,' ',b)"
   ]
  },
  {
   "cell_type": "code",
   "execution_count": 72,
   "metadata": {},
   "outputs": [
    {
     "name": "stdout",
     "output_type": "stream",
     "text": [
      "328\n",
      "328\n",
      "328\n",
      "328\n",
      "328\n",
      "328\n",
      "328\n",
      "328\n",
      "328\n",
      "328\n",
      "328\n",
      "328\n",
      "328\n",
      "328\n",
      "328\n",
      "328\n",
      "328\n",
      "328\n",
      "328\n",
      "328\n",
      "328\n",
      "328\n",
      "328\n",
      "328\n",
      "328\n",
      "328\n",
      "328\n",
      "328\n",
      "328\n",
      "328\n",
      "328\n",
      "328\n",
      "328\n",
      "328\n",
      "328\n",
      "68.4 µs ± 13.9 µs per loop (mean ± std. dev. of 7 runs, 5 loops each)\n"
     ]
    }
   ],
   "source": [
    "%%timeit -n 5\n",
    "\n",
    "s = 0\n",
    "for x, y in zip(a, b):\n",
    "    s += x * y\n",
    "\n",
    "print(np.sum(s))"
   ]
  },
  {
   "cell_type": "code",
   "execution_count": 70,
   "metadata": {},
   "outputs": [
    {
     "name": "stdout",
     "output_type": "stream",
     "text": [
      "[[[[328]]]]\n",
      "[[[[328]]]]\n",
      "[[[[328]]]]\n",
      "[[[[328]]]]\n",
      "[[[[328]]]]\n",
      "[[[[328]]]]\n",
      "[[[[328]]]]\n",
      "[[[[328]]]]\n",
      "[[[[328]]]]\n",
      "[[[[328]]]]\n",
      "[[[[328]]]]\n",
      "[[[[328]]]]\n",
      "[[[[328]]]]\n",
      "[[[[328]]]]\n",
      "[[[[328]]]]\n",
      "[[[[328]]]]\n",
      "[[[[328]]]]\n",
      "[[[[328]]]]\n",
      "[[[[328]]]]\n",
      "[[[[328]]]]\n",
      "[[[[328]]]]\n",
      "[[[[328]]]]\n",
      "[[[[328]]]]\n",
      "[[[[328]]]]\n",
      "[[[[328]]]]\n",
      "[[[[328]]]]\n",
      "[[[[328]]]]\n",
      "[[[[328]]]]\n",
      "[[[[328]]]]\n",
      "[[[[328]]]]\n",
      "[[[[328]]]]\n",
      "[[[[328]]]]\n",
      "[[[[328]]]]\n",
      "[[[[328]]]]\n",
      "[[[[328]]]]\n",
      "The slowest run took 4.73 times longer than the fastest. This could mean that an intermediate result is being cached.\n",
      "225 µs ± 119 µs per loop (mean ± std. dev. of 7 runs, 5 loops each)\n"
     ]
    }
   ],
   "source": [
    "%%timeit -n 5\n",
    "\n",
    "s = a.dot(b.reshape(1,10,1))\n",
    "\n",
    "print(s)"
   ]
  },
  {
   "cell_type": "markdown",
   "metadata": {},
   "source": [
    "*Вывод: получается, что через скалярное произведение в Numpy операция происходит в среднем в 1,9-4,2 раза медленнее, чем без него.*"
   ]
  },
  {
   "cell_type": "markdown",
   "metadata": {
    "id": "hL91rN8QuAQo"
   },
   "source": [
    "### 8. Найти максимальный элемент в векторе x среди элементов, перед которыми стоит нулевой. \n",
    "Для x = np.array([6, 2, 0, 3, 0, 0, 5, 7, 0]) ответ 5"
   ]
  },
  {
   "cell_type": "code",
   "execution_count": 55,
   "metadata": {
    "id": "2g5-52CxuAQq"
   },
   "outputs": [
    {
     "name": "stdout",
     "output_type": "stream",
     "text": [
      "5\n"
     ]
    }
   ],
   "source": [
    "# Дописать код здесь\n",
    "x = np.array([6, 2, 0, 3, 0, 0, 5, 7, 0])\n",
    "uslovie = x==0\n",
    "print (x[1:][uslovie[:-1]].max())"
   ]
  }
 ],
 "metadata": {
  "colab": {
   "collapsed_sections": [],
   "provenance": []
  },
  "kernelspec": {
   "display_name": "Python 3 (ipykernel)",
   "language": "python",
   "name": "python3"
  },
  "language_info": {
   "codemirror_mode": {
    "name": "ipython",
    "version": 3
   },
   "file_extension": ".py",
   "mimetype": "text/x-python",
   "name": "python",
   "nbconvert_exporter": "python",
   "pygments_lexer": "ipython3",
   "version": "3.9.12"
  }
 },
 "nbformat": 4,
 "nbformat_minor": 1
}
